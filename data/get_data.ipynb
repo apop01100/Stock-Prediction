{
 "cells": [
  {
   "cell_type": "code",
   "execution_count": 1,
   "metadata": {},
   "outputs": [],
   "source": [
    "import yfinance as yf\n",
    "import pandas as pd\n",
    "import os\n",
    "from requests.exceptions import ReadTimeout"
   ]
  },
  {
   "cell_type": "code",
   "execution_count": 2,
   "metadata": {},
   "outputs": [],
   "source": [
    "# Fetch stock's data function\n",
    "def fetch_stock_data(ticker, period=\"1mo\", inetrval=\"1d\", timeout=6000):\n",
    "    try:\n",
    "        # Fetch data using yfinance\n",
    "        stock = yf.Ticker(ticker)\n",
    "        data = stock.history(period=period, interval=inetrval, timeout=timeout)  # Set timeout to 6000 seconds\n",
    "        \n",
    "        # Check if data is empty\n",
    "        if data.empty:\n",
    "            print(f\"No data found for {ticker}.\")\n",
    "            return None\n",
    "        \n",
    "        # Return the fetched data\n",
    "        data.reset_index(inplace=True)\n",
    "        return data\n",
    "    except ReadTimeout:\n",
    "        print(f\"Request timed out while fetching data for {ticker}. Try again later.\")  \n",
    "        return None      "
   ]
  },
  {
   "cell_type": "code",
   "execution_count": 3,
   "metadata": {},
   "outputs": [],
   "source": [
    "# Save the data to a CSV file\n",
    "def save_to_csv(data, folder, filename):\n",
    "    try:\n",
    "        os.makedirs(folder, exist_ok=True)\n",
    "        \n",
    "        file_path = os.path.join(folder, filename)\n",
    "        \n",
    "        data.to_csv(file_path, index=False)\n",
    "        print(f\"Data saved to {file_path}.\")\n",
    "    except Exception as e:\n",
    "        print(f\"Error saving data to {filename}: {e}\")"
   ]
  },
  {
   "cell_type": "code",
   "execution_count": 4,
   "metadata": {},
   "outputs": [
    {
     "name": "stdout",
     "output_type": "stream",
     "text": [
      "Data saved to TLKM\\TLKM_stock_max_data.csv.\n"
     ]
    }
   ],
   "source": [
    "ticker = \"TLKM.JK\"\n",
    "period = \"max\"\n",
    "stock = ticker[:4]\n",
    "csv_filename = f\"{stock}_stock_{period}_data.csv\"\n",
    "\n",
    "# Fetch data\n",
    "stock_data = fetch_stock_data(ticker ,period=period)\n",
    "\n",
    "if stock_data is not None:\n",
    "    # Save to CSV\n",
    "    save_to_csv(stock_data, stock, csv_filename)\n",
    "else:\n",
    "    print(\"Stock data is None\")\n"
   ]
  }
 ],
 "metadata": {
  "kernelspec": {
   "display_name": ".venv",
   "language": "python",
   "name": "python3"
  },
  "language_info": {
   "codemirror_mode": {
    "name": "ipython",
    "version": 3
   },
   "file_extension": ".py",
   "mimetype": "text/x-python",
   "name": "python",
   "nbconvert_exporter": "python",
   "pygments_lexer": "ipython3",
   "version": "3.12.2"
  }
 },
 "nbformat": 4,
 "nbformat_minor": 2
}
